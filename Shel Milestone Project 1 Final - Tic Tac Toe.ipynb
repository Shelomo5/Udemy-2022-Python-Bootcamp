{
 "cells": [
  {
   "cell_type": "markdown",
   "metadata": {},
   "source": [
    "___\n",
    "\n",
    "<a href='https://www.udemy.com/user/joseportilla/'><img src='../Pierian_Data_Logo.png'/></a>\n",
    "___\n",
    "<center><em>Content Copyright by Pierian Data</em></center>"
   ]
  },
  {
   "cell_type": "markdown",
   "metadata": {},
   "source": [
    "# Milestone Project 1: Walkthrough Steps Workbook\n",
    "\n",
    "Below is a set of steps for you to follow to try to create the Tic Tac Toe Milestone Project game!"
   ]
  },
  {
   "cell_type": "markdown",
   "metadata": {},
   "source": [
    "#### Some suggested tools before you get started:\n",
    "To take input from a user:\n",
    "\n",
    "    player1 = input(\"Please pick a marker 'X' or 'O'\")\n",
    "    \n",
    "Note that input() takes in a string. If you need an integer value, use\n",
    "\n",
    "    position = int(input('Please enter a number'))\n",
    "    \n",
    "<br>To clear the screen between moves:\n",
    "\n",
    "    from IPython.display import clear_output\n",
    "    clear_output()\n",
    "    \n",
    "Note that clear_output() will only work in jupyter. To clear the screen in other IDEs, consider:\n",
    "\n",
    "    print('\\n'*100)\n",
    "    \n",
    "This scrolls the previous board up out of view. Now on to the program!"
   ]
  },
  {
   "cell_type": "markdown",
   "metadata": {},
   "source": [
    "**Step 1: Write a function that can print out a board. Set up your board as a list, where each index 1-9 corresponds with a number on a number pad, so you get a 3 by 3 board representation.**"
   ]
  },
  {
   "cell_type": "code",
   "execution_count": 1,
   "metadata": {},
   "outputs": [],
   "source": [
    "from IPython.display import clear_output\n",
    "\n",
    "# function which takes board as a list\n",
    "def display_board(board):\n",
    "    clear_output()\n",
    "    \n",
    "    print(board[1]+ \"|\"+board[2]+\"|\"+board[3])\n",
    "    print(\"-----\")\n",
    "    print(board[4]+ \"|\"+board[5]+\"|\"+board[6])\n",
    "    print(\"-----\")\n",
    "    print(board[7]+ \"|\"+board[8]+\"|\"+board[9])"
   ]
  },
  {
   "cell_type": "markdown",
   "metadata": {},
   "source": [
    "**TEST Step 1:** run your function on a test version of the board list, and make adjustments as necessary"
   ]
  },
  {
   "cell_type": "markdown",
   "metadata": {},
   "source": [
    "**Step 2: Write a function that can take in a player input and assign their marker as 'X' or 'O'. Think about using *while* loops to continually ask until you get a correct answer.**"
   ]
  },
  {
   "cell_type": "code",
   "execution_count": 2,
   "metadata": {},
   "outputs": [],
   "source": [
    "# Function takes in player input and assigns it a tic tac toe marker\n",
    "def player_input():\n",
    "    #Empty string for marker X or O\n",
    "    marker = \"\"\n",
    "    # Ask for input until player chooses a valid marker\n",
    "    while marker !=\"X\" and marker !=\"O\":\n",
    "        marker = input(\"Usage: Player 1 choose X or O:\").upper()\n",
    "    # Assign marker to player 1 and player 2\n",
    "    player1 = marker\n",
    "    if player1 == \"X\":\n",
    "        player2 = \"O\"\n",
    "    # Because we then know player 1 picked O\n",
    "    else:\n",
    "        player2 = \"X\"\n",
    "    # Return these two variables as list\n",
    "    return[player1, player2]\n"
   ]
  },
  {
   "cell_type": "markdown",
   "metadata": {},
   "source": [
    "**TEST Step 2:** run the function to make sure it returns the desired output"
   ]
  },
  {
   "cell_type": "markdown",
   "metadata": {},
   "source": [
    "**Step 3: Write a function that takes in the board list object, a marker ('X' or 'O'), and a desired position (number 1-9) and assigns it to the board.**"
   ]
  },
  {
   "cell_type": "code",
   "execution_count": 3,
   "metadata": {},
   "outputs": [],
   "source": [
    "# Takes in 3 inputs. Associates marker (X or O) with a given index position (1-9) of the board (a list)\n",
    "def place_marker(board, marker, position):\n",
    "    board[position] = marker"
   ]
  },
  {
   "cell_type": "markdown",
   "metadata": {},
   "source": [
    "**TEST Step 3:** run the place marker function using test parameters and display the modified board"
   ]
  },
  {
   "cell_type": "markdown",
   "metadata": {},
   "source": [
    "**Step 4: Write a function that takes in a board and a mark (X or O) and then checks to see if that mark has won. **"
   ]
  },
  {
   "cell_type": "code",
   "execution_count": 4,
   "metadata": {},
   "outputs": [],
   "source": [
    "#Function checks if three onsecutive board positions have the same marker, in which case player wins\n",
    "def win_check(board,marker):   \n",
    "    \n",
    "    if(board[1] == board [2] == board [3] == marker):\n",
    "        return True\n",
    "    elif(board[4] == board [5] == board [6] == marker):\n",
    "        return True\n",
    "    elif (board[7] == board [8] == board [9] == marker):\n",
    "        return True\n",
    "    elif (board[1] == board [4] == board [7] == marker):\n",
    "        return True\n",
    "    elif (board[2] == board [5] == board [8] == marker):\n",
    "        return True\n",
    "    elif (board[3] == board [6] == board [9] == marker):\n",
    "        return True\n",
    "    elif (board[1] == board [5] == board [9] == marker):\n",
    "        return True\n",
    "    elif (board[3] == board [5] == board [7] == marker):\n",
    "        return True"
   ]
  },
  {
   "cell_type": "markdown",
   "metadata": {},
   "source": [
    "**TEST Step 4:** run the win_check function against our test_board - it should return True"
   ]
  },
  {
   "cell_type": "markdown",
   "metadata": {},
   "source": [
    "**Step 5: Write a function that uses the random module to randomly decide which player goes first. You may want to lookup random.randint() Return a string of which player went first.**"
   ]
  },
  {
   "cell_type": "code",
   "execution_count": 5,
   "metadata": {},
   "outputs": [],
   "source": [
    "# Randomly assigns player 1 or player 2 to see who starts the game\n",
    "import random\n",
    "\n",
    "def choose_first():\n",
    "    if random.randint(1, 2) == 1:\n",
    "        return 'Player 1'\n",
    "    else:\n",
    "        return 'Player 2'"
   ]
  },
  {
   "cell_type": "markdown",
   "metadata": {},
   "source": [
    "**Step 6: Write a function that returns a boolean indicating whether a space on the board is freely available.**"
   ]
  },
  {
   "cell_type": "code",
   "execution_count": 6,
   "metadata": {},
   "outputs": [],
   "source": [
    "# Function returns True if board position is empty\n",
    "def space_check(board, position):\n",
    "    \n",
    "    if board[position] == \" \":\n",
    "        return True\n",
    "    else:\n",
    "        return False"
   ]
  },
  {
   "cell_type": "markdown",
   "metadata": {},
   "source": [
    "**Step 7: Write a function that checks if the board is full and returns a boolean value. True if full, False otherwise.**"
   ]
  },
  {
   "cell_type": "code",
   "execution_count": 7,
   "metadata": {},
   "outputs": [],
   "source": [
    "#Function returns True if board is full there are no empty positions in board list\n",
    "\n",
    "def full_board_check(board):\n",
    "    \n",
    "    for position in range(1,10):\n",
    "        if board[position] == \" \":\n",
    "            return False\n",
    "    return True"
   ]
  },
  {
   "cell_type": "markdown",
   "metadata": {},
   "source": [
    "**Step 8: Write a function that asks for a player's next position (as a number 1-9) and then uses the function from step 6 to check if it's a free position. If it is, then return the position for later use.**"
   ]
  },
  {
   "cell_type": "code",
   "execution_count": 8,
   "metadata": {},
   "outputs": [],
   "source": [
    "def player_choice(board):\n",
    "    \n",
    "    position = ' '\n",
    "    # While position not an integer between 1-9 or is not free (determined from space_check function) \n",
    "    # while loop will contiue prompt user for a number between 1-9\n",
    "  \n",
    "    while position not in [1, 2, 3, 4, 5, 6, 7, 8, 9] or not space_check(board, position):\n",
    "        position = int(input(\"Type an integer between 1-9 to place marker there\"))\n",
    "            \n",
    "    return position"
   ]
  },
  {
   "cell_type": "markdown",
   "metadata": {},
   "source": [
    "**Step 9: Write a function that asks the player if they want to play again and returns a boolean True if they do want to play again.**"
   ]
  },
  {
   "cell_type": "code",
   "execution_count": 9,
   "metadata": {},
   "outputs": [],
   "source": [
    "# Function returns true if player wants to play again, converts all user input values to lower case, \n",
    "# and makes sure it starts with a \"y\"\n",
    "\n",
    "def replay():\n",
    "  \n",
    "    return input('Do you want to play again? Enter Yes or No: ').lower().startswith('y')"
   ]
  },
  {
   "cell_type": "markdown",
   "metadata": {
    "collapsed": true
   },
   "source": [
    "**Step 10: Here comes the hard part! Use while loops and the functions you've made to run the game!**"
   ]
  },
  {
   "cell_type": "code",
   "execution_count": null,
   "metadata": {},
   "outputs": [
    {
     "name": "stdout",
     "output_type": "stream",
     "text": [
      " | | \n",
      "-----\n",
      " | | \n",
      "-----\n",
      " | | \n"
     ]
    }
   ],
   "source": [
    "print('Welcome to Tic Tac Toe!')\n",
    "\n",
    "while True:\n",
    "    board = [' ',' ',' ',' ',' ',' ',' ',' ',' ',' ']\n",
    "    #Player 1 chooses marker and markers stored in variables for both players\n",
    "    marker1, marker2 = player_input()\n",
    "    \n",
    "    #chooses who goes first\n",
    "    player_turn = choose_first()\n",
    "    print(player_turn + ' will start the game.')\n",
    "    \n",
    "    play_game = input(\"Are you ready to play? Yes or No\")\n",
    "    \n",
    "    if play_game.lower()[0] == \"y\":\n",
    "        play_game = True\n",
    "    else:\n",
    "        play_game = False\n",
    "\n",
    "    while play_game:\n",
    "        #Player 1 Turn\n",
    "        if player_turn == \"Player 1\":\n",
    "            #Shows the board\n",
    "            display_board(board)\n",
    "        \n",
    "            #asks for a player's next position (as a number 1-9) and then uses\n",
    "            #the function full_board_check to check if it's a free position. If it is, \n",
    "            #then return the position for later use.\n",
    "            position = player_choice(board)\n",
    "        \n",
    "            #takes in board list object, a marker ('X' or 'O'), and a desired position (number 1-9)\n",
    "            #and assigns it to the board.\n",
    "            place_marker(board, marker1, position)\n",
    "            \n",
    "            #Function takes in a board and a mark (X or O) and then checks to see if that mark has won.\n",
    "            if win_check(board, marker1):\n",
    "                display_board(board)\n",
    "                print('Player 1 has won!')\n",
    "                play_game = False\n",
    "            else:\n",
    "                #Function that checks if the board is full and returns a boolean value. True if full, False otherwise.\n",
    "                if full_board_check(board):\n",
    "                    display_board(board)\n",
    "                    print(\"It's a draw!\")\n",
    "                    play_game = False\n",
    "                else:\n",
    "                    player_turn = 'Player 2'\n",
    "            \n",
    "        else:\n",
    "            #player 2's turn   \n",
    "            display_board(board) \n",
    "            position = player_choice(board)\n",
    "            place_marker(board, marker2, position)\n",
    "\n",
    "            if win_check(board, marker2):\n",
    "                display_board(board)\n",
    "                print('Player 2 has won!')\n",
    "                play_game = False\n",
    "\n",
    "            else:\n",
    "                if full_board_check(board):\n",
    "                    display_board(board)\n",
    "                    print(\"It's a draw!\")\n",
    "                    play_game = False\n",
    "                else:\n",
    "                    player_turn = 'Player 1'\n",
    "    #If player doesn't want to play break                \n",
    "    if not replay():\n",
    "        break"
   ]
  },
  {
   "cell_type": "markdown",
   "metadata": {
    "collapsed": true
   },
   "source": [
    "## Good Job!"
   ]
  }
 ],
 "metadata": {
  "kernelspec": {
   "display_name": "Python 3 (ipykernel)",
   "language": "python",
   "name": "python3"
  },
  "language_info": {
   "codemirror_mode": {
    "name": "ipython",
    "version": 3
   },
   "file_extension": ".py",
   "mimetype": "text/x-python",
   "name": "python",
   "nbconvert_exporter": "python",
   "pygments_lexer": "ipython3",
   "version": "3.9.7"
  }
 },
 "nbformat": 4,
 "nbformat_minor": 1
}
